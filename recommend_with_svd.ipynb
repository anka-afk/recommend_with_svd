{
 "cells": [
  {
   "cell_type": "code",
   "execution_count": 11,
   "metadata": {},
   "outputs": [],
   "source": [
    "def recommend_with_svd(A,energy_percentage=0.9):\n",
    "    import numpy as np\n",
    "    import matplotlib.pyplot as plt\n",
    "    \n",
    "    # SVD\n",
    "    m = A.shape[0]\n",
    "    n = A.shape[1]\n",
    "    U,s,VT = np.linalg.svd(A, full_matrices=False)\n",
    "    \n",
    "    s2 = s**2\n",
    "    for i in range(1,len(s)):\n",
    "        if np.sum(s2[:i]) / np.sum(s2) >= energy_percentage:\n",
    "            k = i\n",
    "            break\n",
    "    \n",
    "    A_reconstructed = np.dot(U[:,:k],np.dot(np.diag(s[:k]),VT[:k,:]))\n",
    "    for i in range(m):\n",
    "        for j in range(n):\n",
    "            if A_reconstructed[i,j] == 0:\n",
    "                for k in range(m):\n",
    "                    if A_reconstructed[k,j] != 0:\n",
    "                        cos_sim = cos_sim(A_reconstructed[i,:],A_reconstructed[k,:])\n",
    "                        A_reconstructed[i,j] += cos_sim*A_reconstructed[k,j]\n",
    "                        sum_sim += cos_sim\n",
    "                A_reconstructed[i,j] /= sum_sim\n",
    "    return A_reconstructed\n",
    "            "
   ]
  },
  {
   "cell_type": "code",
   "execution_count": 12,
   "metadata": {},
   "outputs": [],
   "source": [
    "def generate_evaluation_matrix(m,n):\n",
    "    import numpy as np\n",
    "    return np.random.randint(0,101,(m,n))"
   ]
  },
  {
   "cell_type": "code",
   "execution_count": 13,
   "metadata": {},
   "outputs": [],
   "source": [
    "def cos_sim(a,b):\n",
    "    import numpy as np\n",
    "    return 0.5*np.dot(a,b) / (np.linalg.norm(a) * np.linalg.norm(b))+0.5"
   ]
  },
  {
   "cell_type": "code",
   "execution_count": 14,
   "metadata": {},
   "outputs": [
    {
     "name": "stdout",
     "output_type": "stream",
     "text": [
      "[[ 49   7  85  20  29  95  43  79   7  46]\n",
      " [ 70  18  59 100   9  41  84  61   1  22]\n",
      " [  0  21  46  93  51  18  55  28  36  91]\n",
      " [ 76  72  63  24   5  30  59  19  94  25]\n",
      " [ 21   3  52  58  20  92  11   3  67  98]\n",
      " [ 87 100  38   6  79  24  50  67  45  28]\n",
      " [ 99  87  61  11  74  55  37  77  72  76]\n",
      " [ 12  16  58  69  11  72  10  52  76  31]\n",
      " [ 85  91  29  81  39  65  99  26  43  96]\n",
      " [ 29  35  14  23  34  89  93  10   6  51]]\n"
     ]
    }
   ],
   "source": [
    "A = generate_evaluation_matrix(10,10)\n",
    "print(A)"
   ]
  }
 ],
 "metadata": {
  "kernelspec": {
   "display_name": "base",
   "language": "python",
   "name": "python3"
  },
  "language_info": {
   "codemirror_mode": {
    "name": "ipython",
    "version": 3
   },
   "file_extension": ".py",
   "mimetype": "text/x-python",
   "name": "python",
   "nbconvert_exporter": "python",
   "pygments_lexer": "ipython3",
   "version": "3.11.7"
  }
 },
 "nbformat": 4,
 "nbformat_minor": 2
}
